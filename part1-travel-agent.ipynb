{
 "cells": [
  {
   "cell_type": "markdown",
   "id": "4ec95ea0",
   "metadata": {},
   "source": [
    "# Wild Drone LLM Workshop: Part 1 - Travel Assistant Agent\n",
    "\n",
    "Outdated! - Updated version in Google Colab: \n",
    "https://colab.research.google.com/drive/11cgnpWTMLjIDlOyYQ23STOYHWmjZf5ii?usp=sharing"
   ]
  },
  {
   "cell_type": "markdown",
   "id": "4fb0f0f0",
   "metadata": {},
   "source": [
    "## Setup: Get Your API Key\n",
    "\n",
    "You need a **free Gemini API key** from: https://aistudio.google.com/app/apikey\n",
    "\n",
    "**Quick Setup:**\n",
    "1. Copy `.env.example` to `.env`\n",
    "2. Add your key: `GEMINI_API_KEY=your_key_here`\n",
    "3. Run the cells below\n",
    "\n",
    "**Alternative:** Set in terminal: `export GEMINI_API_KEY=your_key_here`"
   ]
  },
  {
   "cell_type": "code",
   "execution_count": null,
   "id": "b1dc2266",
   "metadata": {},
   "outputs": [],
   "source": [
    "# Install required packages\n",
    "!pip install litellm matplotlib numpy python-dotenv\n",
    "\n",
    "# Note: If using OpenAI instead of Gemini, also install:\n",
    "# !pip install openai"
   ]
  },
  {
   "cell_type": "code",
   "execution_count": null,
   "id": "e00a8e87",
   "metadata": {},
   "outputs": [],
   "source": [
    "# Configuration and Setup\n",
    "import os\n",
    "import litellm\n",
    "from dotenv import load_dotenv\n",
    "from llm_agents import add_parameters_schema, LLMAgent\n",
    "\n",
    "# Load environment variables from .env file (if it exists)\n",
    "load_dotenv()\n",
    "\n",
    "# MODEL CONFIGURATION\n",
    "# Get Gemini API key from environment variable\n",
    "gemini_api_key = os.getenv('GEMINI_API_KEY')\n",
    "# Set the API key for litellm\n",
    "os.environ['GEMINI_API_KEY'] = gemini_api_key\n",
    "# Set the model to use throughout the workshop\n",
    "model_name = \"gemini/gemini-2.5-flash\"  # Using stable model"
   ]
  },
  {
   "cell_type": "markdown",
   "id": "dcf9efd5",
   "metadata": {},
   "source": [
    "# Understanding LLMs\n",
    "\n",
    "## Your First LLM Conversation\n",
    "Let's start simple - ask an LLM a question and see how it responds. \n",
    "\n",
    "## TO-DO 📝\n",
    "- Try modifying the system prompt to see how it affects the response\n",
    "- Try modifying the user prompt to ask different questions\n",
    "- Try modifying the temperature, how does the response look as we try higher values like 0.5, 1.0 or 2.0?"
   ]
  },
  {
   "cell_type": "code",
   "execution_count": null,
   "id": "5351c079",
   "metadata": {},
   "outputs": [],
   "source": [
    "system_prompt = \"You are a helpful assistant that answers with short poems.\"\n",
    "user_prompt = \"How do I make a Spanish tortilla?\"\n",
    "\n",
    "response = litellm.completion(\n",
    "        model=model_name,\n",
    "        messages=[\n",
    "            {\"role\": \"system\", \"content\": system_prompt},\n",
    "            {\"role\": \"user\", \"content\": user_prompt}\n",
    "        ],\n",
    "        max_tokens=2000, # maximum length of the response in tokens\n",
    "        temperature=0.0, # 0.0 is deterministic (should always yield same response), more than 0.0 adds randomness and creativity\n",
    "    )\n",
    "print(response.choices[0].message.content)"
   ]
  },
  {
   "cell_type": "markdown",
   "id": "aa871afe",
   "metadata": {},
   "source": [
    "## The Problem: LLMs Are Limited to their Training Data\n",
    "\n",
    "LLMs can't:\n",
    "- Get current weather 🌤️\n",
    "- Access the internet 🌐\n",
    "\n",
    "They will either say they don't have the requested information, or hallucinate a response.\n",
    "\n",
    "## TO-DO 🤔💭\n",
    "- Read and understand the system prompt\n",
    "- Observe how the capabilities of the model are limited when we ask for up-to-date information"
   ]
  },
  {
   "cell_type": "code",
   "execution_count": null,
   "id": "74946985",
   "metadata": {},
   "outputs": [],
   "source": [
    "# Let's create a travel agent with no tools\n",
    "weather_uninformed_travel_agent = LLMAgent(model=model_name)\n",
    "\n",
    "# Set an empty list of tools (no tools)\n",
    "weather_uninformed_travel_agent.tools = []\n",
    "\n",
    "# Define a system prompt for the travel agent\n",
    "weather_uninformed_travel_agent.system_prompt = \"\"\"\n",
    "You are a helpful travel planning assistant.\n",
    "Help users decide between travel destinations based on the weather forecast.\n",
    "Answer in a friendly and concise manner (max 30 words).\n",
    "\"\"\"\n",
    "\n",
    "# Test the uninformed travel agent\n",
    "question = \"I'm hesitating between going to Paris or Rome for a 3-day trip next weekend. Which destination should I choose?\"\n",
    "\n",
    "print(\"🤖 Testing our Weather-Uninformed Travel Agent:\")\n",
    "print(\"-\" * 50)\n",
    "response = weather_uninformed_travel_agent.chat(question)"
   ]
  },
  {
   "cell_type": "markdown",
   "id": "2835e57a",
   "metadata": {},
   "source": [
    "**Solution**: Give LLMs access to tools so they can get updated information from APIs such as weather forecasts.\n",
    "\n",
    "## How Tool Calling Works\n",
    "\n",
    "1. **Define tools** - Tell the LLM what functions it can use\n",
    "2. **LLM chooses** - It decides which tool to call based on the user's question\n",
    "3. **Get results** - The function runs and returns real data\n",
    "4. **Smart response** - LLM uses the fresh data to give informed answers\n",
    "\n",
    "Let's build a weather-informed travel agent! 🌦️✈️\n",
    "\n",
    "We'll start by creating a mock function that provides weather forecasts for the next N days in any city.\n",
    "\n",
    "> **Important Note**: The tools in this workshop are **mock functions** that generate random data for educational purposes. In real applications, these would connect to actual APIs like: OpenWeatherMap, Skyscanner, National railway APIs & Web search APIs to get current information\n",
    "\n",
    "## TO-DO 🤔💭\n",
    "- Read and understand what the weather tool is doing\n",
    "- Pay attention to how the metadata (parameters schema and docstring) provide info to the model on how to use the tool\n",
    "- Look at how the tool is connected to the LLM Agent\n",
    "- Read and understand the system prompt of the LLM Agent\n",
    "- Observe how now the agent can provided guidance on where to travel based on the weather data\n"
   ]
  },
  {
   "cell_type": "code",
   "execution_count": null,
   "id": "def7b22e",
   "metadata": {},
   "outputs": [],
   "source": [
    "# Our First Tool: Weather Forecast\n",
    "\n",
    "@add_parameters_schema( # Info for model about type and description of parameters\n",
    "    city={\"type\": \"string\", \"description\": \"City name\"},\n",
    "    days={\"type\": \"integer\", \"description\": \"Number of days (1-7)\"}\n",
    ")\n",
    "def get_weather_forecast(city: str, days: int = 3) -> str:\n",
    "    \"\"\"Get weather forecast for a city\"\"\" # Info for model about what the function does\n",
    "    import random\n",
    "    \n",
    "    # Possible weather conditions\n",
    "    conditions = [\"Sunny\", \"Cloudy\", \"Rainy\", \"Snowy\"]\n",
    "    \n",
    "    # Generate random forecast\n",
    "    result = f\"Weather for {city}:\\n\"\n",
    "    for day in range(1, days + 1):\n",
    "        weather = random.choice(conditions)\n",
    "        temp = random.randint(5, 25)  # Temperature in Celsius\n",
    "        result += f\"Day {day}: {weather}, {temp}°C\\n\"\n",
    "    \n",
    "    return result"
   ]
  },
  {
   "cell_type": "code",
   "execution_count": null,
   "id": "5ee78f9c",
   "metadata": {},
   "outputs": [],
   "source": [
    "# Test the tool: weather forecast for Paris for 3 days\n",
    "weather_forecast = get_weather_forecast(\"Paris\", 3)\n",
    "print(weather_forecast)"
   ]
  },
  {
   "cell_type": "code",
   "execution_count": null,
   "id": "6487d163",
   "metadata": {},
   "outputs": [],
   "source": [
    "# Now let's create and test a travel agent that is weather-informed\n",
    "weather_informed_travel_agent = LLMAgent(model=model_name)\n",
    "\n",
    "# Connect the tools defined in the notebook\n",
    "weather_informed_travel_agent.tools = [get_weather_forecast]\n",
    "\n",
    "# Set the system prompt defined in the notebook\n",
    "weather_informed_travel_agent.system_prompt = \"\"\"\n",
    "You are a helpful travel planning assistant.\n",
    "Your task is to help users decide between travel destinations.\n",
    "Use the tools provided to make an informed recommendation.\n",
    "Answer in a friendly and concise manner (max 30 words).\n",
    "\"\"\"\n",
    "# Test our travel agent\n",
    "question = \"\"\"I'm hesitating between going to Paris or Rome for a 3-day trip next weekend. Which destination should I choose?\"\"\"\n",
    "\n",
    "print(\"🤖 Testing our Weather-Informed Travel Agent:\")\n",
    "print(\"-\" * 50)\n",
    "\n",
    "# Get a response from the travel agent\n",
    "response = weather_informed_travel_agent.chat(question)"
   ]
  },
  {
   "cell_type": "markdown",
   "id": "63b3892e",
   "metadata": {},
   "source": [
    "# 🚀 Advanced Exercise: Compare Travel Options\n",
    "\n",
    "Now let's add flight and train price checking! Your agent will help users choose between different travel options.\n",
    "\n",
    "## Your Tasks 📝\n",
    "\n",
    "1. **Study the tools below** - See how they work\n",
    "2. **Write a system prompt** - Tell your agent how to help users  \n",
    "3. **Connect the tools** - Add all tools to your agent\n",
    "4. **Test it out** - Try different travel questions\n",
    "\n",
    "The tools give realistic prices and CO2 emissions. Your job: make an agent that helps users choose wisely! 🌱💰\n",
    "\n",
    "> **Remember**: These tools generate random data for learning purposes. Real travel agents would use live APIs to get actual prices, schedules, and availability from airlines, booking sites, and transportation providers."
   ]
  },
  {
   "cell_type": "code",
   "execution_count": null,
   "id": "2a950f30",
   "metadata": {},
   "outputs": [],
   "source": [
    "# Tool 1: Flight Prices\n",
    "@add_parameters_schema(\n",
    "    origin={\"type\": \"string\", \"description\": \"Departure city\"},\n",
    "    destination={\"type\": \"string\", \"description\": \"Destination city\"}\n",
    ")\n",
    "def get_flight_prices(origin: str, destination: str) -> str:\n",
    "    \"\"\"Get flight prices and environmental impact\"\"\"\n",
    "    import random\n",
    "    \n",
    "    # Simple price calculation\n",
    "    price = random.randint(150, 400)\n",
    "    airline = random.choice([\"BudgetAir\", \"SkyConnect\", \"EuroWings\"])\n",
    "    \n",
    "    # Flight details\n",
    "    hours = random.randint(2, 8)\n",
    "    co2_kg = random.randint(80, 200)  # CO2 emissions in kg\n",
    "    \n",
    "    return f\"✈️ Flight {origin} → {destination}: {airline} €{price} ({hours}h, CO2: {co2_kg}kg)\"\n",
    "\n",
    "# Test it!\n",
    "print(get_flight_prices(\"Paris\", \"Rome\"))"
   ]
  },
  {
   "cell_type": "code",
   "execution_count": null,
   "id": "37e89e03",
   "metadata": {},
   "outputs": [],
   "source": [
    "# Tool 2: Train Prices  \n",
    "@add_parameters_schema(\n",
    "    origin={\"type\": \"string\", \"description\": \"Departure city\"},\n",
    "    destination={\"type\": \"string\", \"description\": \"Destination city\"}\n",
    ")\n",
    "def get_train_prices(origin: str, destination: str) -> str:\n",
    "    \"\"\"Get train prices and environmental impact\"\"\"\n",
    "    import random\n",
    "    \n",
    "    # Some routes don't exist\n",
    "    no_train_routes = [(\"London\", \"Rome\"), (\"Madrid\", \"Stockholm\")]\n",
    "    if (origin, destination) in no_train_routes or (destination, origin) in no_train_routes:\n",
    "        return f\"🚫 No train route from {origin} to {destination}\"\n",
    "    \n",
    "    # Simple price calculation (usually cheaper than flights)\n",
    "    price = random.randint(80, 250)\n",
    "    operator = random.choice([\"EuroRail\", \"HighSpeed\", \"RegionalTrain\"])\n",
    "    \n",
    "    # Train details  \n",
    "    hours = random.randint(4, 12)\n",
    "    co2_kg = random.randint(10, 40)  # Much lower CO2 than flights!\n",
    "    \n",
    "    return f\"🚂 Train {origin} → {destination}: {operator} €{price} ({hours}h, CO2: {co2_kg}kg)\"\n",
    "\n",
    "# Test it!\n",
    "print(get_train_prices(\"Paris\", \"Rome\"))"
   ]
  },
  {
   "cell_type": "code",
   "execution_count": null,
   "id": "7f948244",
   "metadata": {},
   "outputs": [],
   "source": [
    "# TODO: STUDENT TASK - Create and configure your enhanced agent\n",
    "# 1. Create a new LLMAgent instance\n",
    "enhanced_travel_agent = LLMAgent(model=model_name)\n",
    "\n",
    "# 2. Add the weather, flight and trains tool to the agent\n",
    "\n",
    "# 3. Write your enhanced system prompt here to consider cost and sustainability\n",
    "enhanced_travel_agent.system_prompt = \"\"\"\n",
    "Write your system prompt here!\n",
    "\n",
    "Consider including:\n",
    "- Your agent's role and personality\n",
    "- How to balance cost vs environmental impact  \n",
    "- What factors to prioritize (price, CO2, time, comfort)\n",
    "- How to structure recommendations\n",
    "- Tone (friendly, professional, expert, etc.)\n",
    "\"\"\""
   ]
  },
  {
   "cell_type": "markdown",
   "id": "c5e7c8f4",
   "metadata": {},
   "source": [
    "## 🧪 Test Your Enhanced Agent\n",
    "\n",
    "Try different questions, ensure the agent uses the tools to get updated information, and that it replies as expected.\n",
    "\n",
    "**What to Notice:**\n",
    "- Does it check all options (weather, flights, trains)?\n",
    "- How does it explain trade-offs?\n",
    "- Is the advice helpful and clear?"
   ]
  },
  {
   "cell_type": "code",
   "execution_count": null,
   "id": "116be51e",
   "metadata": {},
   "outputs": [],
   "source": [
    "# Test your enhanced travel agent here!\n",
    "# Make sure you've completed the agent creation above first\n",
    "\n",
    "test_question = \"\"\"\n",
    "I'm hesitating between traveling from Munich to Paris or Rome for a 3-day trip next weekend. Which destination should I choose?\n",
    "\"\"\"\n",
    "\n",
    "enhanced_travel_agent.chat(test_question)"
   ]
  },
  {
   "cell_type": "code",
   "execution_count": null,
   "id": "d45f5a0c",
   "metadata": {},
   "outputs": [],
   "source": []
  },
  {
   "cell_type": "code",
   "execution_count": null,
   "id": "0ca6f3de",
   "metadata": {},
   "outputs": [],
   "source": []
  },
  {
   "cell_type": "code",
   "execution_count": null,
   "id": "c877adc9",
   "metadata": {},
   "outputs": [],
   "source": []
  },
  {
   "cell_type": "code",
   "execution_count": null,
   "id": "2b224a28",
   "metadata": {},
   "outputs": [],
   "source": []
  },
  {
   "cell_type": "code",
   "execution_count": null,
   "id": "6ec09b8b",
   "metadata": {},
   "outputs": [],
   "source": []
  },
  {
   "cell_type": "code",
   "execution_count": null,
   "id": "818cb531",
   "metadata": {},
   "outputs": [],
   "source": []
  },
  {
   "cell_type": "code",
   "execution_count": null,
   "id": "21470201",
   "metadata": {},
   "outputs": [],
   "source": []
  },
  {
   "cell_type": "markdown",
   "id": "9ddfaa97",
   "metadata": {},
   "source": [
    "## Provided solution"
   ]
  },
  {
   "cell_type": "code",
   "execution_count": null,
   "id": "a99c4a9b",
   "metadata": {},
   "outputs": [],
   "source": [
    "# Provided solution to the advanced travel agent task\n",
    "# 1. Create a new LLMAgent instance\n",
    "enhanced_travel_agent = LLMAgent(model=model_name)\n",
    "# 2. Add the weather, flight and trains tool to the agent\n",
    "enhanced_travel_agent.tools = [get_weather_forecast, get_flight_prices, get_train_prices]\n",
    "# 3. Write your enhanced system prompt here to consider cost and sustainability\n",
    "enhanced_travel_agent.system_prompt = \"\"\"\n",
    "You are an expert travel planning assistant.\n",
    "Your task is to help users decide between travel destinations.\n",
    "Use the tools provided to make an informed recommendation.\n",
    "Prioritize affordable and low-CO2 options, but also consider user comfort.\n",
    "Answer in a friendly and concise manner (max 50 words).\n",
    "\"\"\""
   ]
  },
  {
   "cell_type": "code",
   "execution_count": null,
   "id": "28283bb2",
   "metadata": {},
   "outputs": [],
   "source": [
    "# Test the provided solution\n",
    "question = \"I'm hesitating between traveling from Munich to Paris or Rome for a 3-day trip next weekend. Which destination should I choose?\"\n",
    "\n",
    "print(\"🤖 Testing our Enhanced Travel Agent:\")\n",
    "print(\"-\" * 50)\n",
    "response = enhanced_travel_agent.chat(question)"
   ]
  },
  {
   "cell_type": "code",
   "execution_count": null,
   "id": "b1904489",
   "metadata": {},
   "outputs": [],
   "source": []
  }
 ],
 "metadata": {
  "kernelspec": {
   "display_name": "Python 3",
   "language": "python",
   "name": "python3"
  },
  "language_info": {
   "codemirror_mode": {
    "name": "ipython",
    "version": 3
   },
   "file_extension": ".py",
   "mimetype": "text/x-python",
   "name": "python",
   "nbconvert_exporter": "python",
   "pygments_lexer": "ipython3",
   "version": "3.10.12"
  }
 },
 "nbformat": 4,
 "nbformat_minor": 5
}
